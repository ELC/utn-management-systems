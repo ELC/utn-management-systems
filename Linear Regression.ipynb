{
 "cells": [
  {
   "cell_type": "markdown",
   "metadata": {},
   "source": [
    "## Initialization"
   ]
  },
  {
   "cell_type": "code",
   "execution_count": 10,
   "metadata": {
    "ExecuteTime": {
     "end_time": "2018-01-31T01:45:19.815434Z",
     "start_time": "2018-01-31T01:45:18.293736Z"
    }
   },
   "outputs": [],
   "source": [
    "import numpy as np\n",
    "import pandas as pd\n",
    "import os\n",
    "import math\n",
    "import time\n",
    "import datetime\n",
    "from statistics import mean\n",
    "\n",
    "from bqplot import pyplot as bplt\n",
    "import matplotlib.pyplot as plt\n",
    "import matplotlib as mpl\n",
    "\n",
    "%matplotlib inline\n",
    "\n",
    "plt.style.use('bmh')\n",
    "mpl.rcParams['figure.figsize'] = (20.0, 6.0)"
   ]
  },
  {
   "cell_type": "markdown",
   "metadata": {},
   "source": [
    "## Linear Regression"
   ]
  },
  {
   "cell_type": "code",
   "execution_count": 2,
   "metadata": {},
   "outputs": [
    {
     "data": {
      "text/html": [
       "<div>\n",
       "<style scoped>\n",
       "    .dataframe tbody tr th:only-of-type {\n",
       "        vertical-align: middle;\n",
       "    }\n",
       "\n",
       "    .dataframe tbody tr th {\n",
       "        vertical-align: top;\n",
       "    }\n",
       "\n",
       "    .dataframe thead th {\n",
       "        text-align: right;\n",
       "    }\n",
       "</style>\n",
       "<table border=\"1\" class=\"dataframe\">\n",
       "  <thead>\n",
       "    <tr style=\"text-align: right;\">\n",
       "      <th></th>\n",
       "      <th>0</th>\n",
       "      <th>1</th>\n",
       "      <th>2</th>\n",
       "      <th>3</th>\n",
       "      <th>4</th>\n",
       "      <th>5</th>\n",
       "      <th>6</th>\n",
       "      <th>7</th>\n",
       "      <th>8</th>\n",
       "      <th>9</th>\n",
       "      <th>10</th>\n",
       "      <th>11</th>\n",
       "    </tr>\n",
       "  </thead>\n",
       "  <tbody>\n",
       "    <tr>\n",
       "      <th>0</th>\n",
       "      <td>5.0</td>\n",
       "      <td>5.0</td>\n",
       "      <td>5.0</td>\n",
       "      <td>10.0</td>\n",
       "      <td>10.0</td>\n",
       "      <td>10.0</td>\n",
       "      <td>15.0</td>\n",
       "      <td>15.0</td>\n",
       "      <td>15.0</td>\n",
       "      <td>20.0</td>\n",
       "      <td>20.0</td>\n",
       "      <td>20.0</td>\n",
       "    </tr>\n",
       "    <tr>\n",
       "      <th>1</th>\n",
       "      <td>1.6</td>\n",
       "      <td>2.2</td>\n",
       "      <td>1.4</td>\n",
       "      <td>1.9</td>\n",
       "      <td>2.4</td>\n",
       "      <td>2.6</td>\n",
       "      <td>2.3</td>\n",
       "      <td>2.7</td>\n",
       "      <td>2.8</td>\n",
       "      <td>2.6</td>\n",
       "      <td>2.9</td>\n",
       "      <td>3.1</td>\n",
       "    </tr>\n",
       "  </tbody>\n",
       "</table>\n",
       "</div>"
      ],
      "text/plain": [
       "    0    1    2     3     4     5     6     7     8     9     10    11\n",
       "0  5.0  5.0  5.0  10.0  10.0  10.0  15.0  15.0  15.0  20.0  20.0  20.0\n",
       "1  1.6  2.2  1.4   1.9   2.4   2.6   2.3   2.7   2.8   2.6   2.9   3.1"
      ]
     },
     "execution_count": 2,
     "metadata": {},
     "output_type": "execute_result"
    }
   ],
   "source": [
    "df = pd.read_csv('ventas_mascotas.csv', header=None)\n",
    "df.T"
   ]
  },
  {
   "cell_type": "code",
   "execution_count": 23,
   "metadata": {},
   "outputs": [
    {
     "data": {
      "image/png": "[encoded data removed]",
      "text/plain": [
       "<Figure size 1440x432 with 1 Axes>"
      ]
     },
     "metadata": {
      "needs_background": "light"
     },
     "output_type": "display_data"
    }
   ],
   "source": [
    "x = df[0]\n",
    "y = df[1]\n",
    "\n",
    "plt.xlim(min(x) * 0.90, max(x) * 1.10)\n",
    "plt.ylim(min(y) * 0.90, max(y) * 1.10)\n",
    "\n",
    "plt.ylabel('Weekly sales(hundreds)')\n",
    "\n",
    "plt.xticks(x)\n",
    "plt.xlabel('Space in Front of the Shelves (dm)')\n",
    "\n",
    "plt.scatter(x, y, s=70)\n",
    "plt.show()"
   ]
  },
  {
   "cell_type": "markdown",
   "metadata": {},
   "source": [
    "$$Y = \\alpha + \\beta x + \\epsilon$$"
   ]
  },
  {
   "cell_type": "markdown",
   "metadata": {},
   "source": [
    "$$E[ Y_i | X=x_i] = \\alpha + \\beta x_i$$"
   ]
  },
  {
   "cell_type": "markdown",
   "metadata": {},
   "source": [
    "$$\\epsilon_i = Y_i - E[Y_i|X=x_i] = Y_i - (\\alpha + \\beta x_i) $$"
   ]
  },
  {
   "cell_type": "markdown",
   "metadata": {},
   "source": [
    "$$Y_i = \\alpha + \\beta x_i + \\epsilon_i $$"
   ]
  },
  {
   "cell_type": "markdown",
   "metadata": {},
   "source": [
    "### Best Fit Line"
   ]
  },
  {
   "cell_type": "markdown",
   "metadata": {},
   "source": [
    "$$ y = mx + b $$\n",
    "$$ b = \\bar{y} - m\\bar{x} $$\n",
    "\n",
    "$$ and $$\n",
    "\n",
    "$$ m = \\frac{\\bar{x}\\bar{y}-\\bar{xy}}{(\\bar{x})^2-\\bar{x^2}} $$\n",
    "\n",
    "$$ or $$\n",
    "\n",
    "$$ m = \\frac{\\sum{(x-\\bar{x})(y-\\bar{y})}}{\\sum{(x-\\bar{x})^2}} $$"
   ]
  },
  {
   "cell_type": "code",
   "execution_count": 35,
   "metadata": {
    "ExecuteTime": {
     "end_time": "2018-01-31T01:45:25.579663Z",
     "start_time": "2018-01-31T01:45:25.563660Z"
    }
   },
   "outputs": [],
   "source": [
    "def create_dataset(number, variance, step=2, offset=(0, 0)):\n",
    "    x_off, y_off = offset\n",
    "    xs = np.arange(x_off, number + x_off)\n",
    "    ys = np.arange(y_off, number * step + y_off, step)\n",
    "    ys += np.random.randint(-variance, variance, size=number)\n",
    "    return xs, ys"
   ]
  },
  {
   "cell_type": "code",
   "execution_count": 28,
   "metadata": {
    "ExecuteTime": {
     "end_time": "2018-01-31T01:45:25.596664Z",
     "start_time": "2018-01-31T01:45:25.583662Z"
    }
   },
   "outputs": [],
   "source": [
    "def best_fit_slope(xs, ys):\n",
    "    x_mean = xs.mean()\n",
    "    y_mean = ys.mean()\n",
    "    m = ((xs - x_mean) * (ys - y_mean)).sum() / ((xs - x_mean)**2).sum()\n",
    "    b = y_mean - m * x_mean\n",
    "    return m, b"
   ]
  },
  {
   "cell_type": "code",
   "execution_count": 29,
   "metadata": {
    "ExecuteTime": {
     "end_time": "2018-01-31T01:45:25.611166Z",
     "start_time": "2018-01-31T01:45:25.599664Z"
    }
   },
   "outputs": [],
   "source": [
    "def squared_error(y_initial, y_final):\n",
    "    return ((y_initial - y_final) ** 2).sum()"
   ]
  },
  {
   "cell_type": "code",
   "execution_count": 30,
   "metadata": {
    "ExecuteTime": {
     "end_time": "2018-01-31T01:45:25.623167Z",
     "start_time": "2018-01-31T01:45:25.614166Z"
    }
   },
   "outputs": [],
   "source": [
    "def coeff_of_determination(y_initial, y_final):\n",
    "    ser = squared_error(y_initial, y_final)\n",
    "    sem = squared_error(y_initial, y_initial.mean())\n",
    "    return 1 - (ser / sem)"
   ]
  },
  {
   "cell_type": "code",
   "execution_count": 31,
   "metadata": {
    "ExecuteTime": {
     "end_time": "2018-01-31T01:45:25.636669Z",
     "start_time": "2018-01-31T01:45:25.626169Z"
    }
   },
   "outputs": [],
   "source": [
    "def calc_y(x, m=None, b=None):\n",
    "    if None in [m, b]:\n",
    "        m, b = best_fit_slope(xs, ys)\n",
    "    return m * x + b"
   ]
  },
  {
   "cell_type": "code",
   "execution_count": 32,
   "metadata": {
    "ExecuteTime": {
     "end_time": "2018-01-31T01:45:25.655172Z",
     "start_time": "2018-01-31T01:45:25.641171Z"
    }
   },
   "outputs": [],
   "source": [
    "def add_point(target):\n",
    "    m, b = best_fit_slope(scat.x, scat.y)\n",
    "    y_hat.x = scat.x\n",
    "    y_hat.y = calc_y(scat.x, m, b)"
   ]
  },
  {
   "cell_type": "code",
   "execution_count": 38,
   "metadata": {
    "ExecuteTime": {
     "end_time": "2018-01-31T01:45:25.670673Z",
     "start_time": "2018-01-31T01:45:25.658672Z"
    }
   },
   "outputs": [
    {
     "data": {
      "text/plain": [
       "0.8413432347748435"
      ]
     },
     "execution_count": 38,
     "metadata": {},
     "output_type": "execute_result"
    }
   ],
   "source": [
    "xs, ys = create_dataset(40, 20, 2, offset=(10,100))\n",
    "coeff_of_determination(ys, calc_y(xs))"
   ]
  },
  {
   "cell_type": "code",
   "execution_count": 34,
   "metadata": {
    "ExecuteTime": {
     "end_time": "2018-01-31T01:45:25.783688Z",
     "start_time": "2018-01-31T01:45:25.674175Z"
    },
    "scrolled": false
   },
   "outputs": [
    {
     "data": {
      "application/vnd.jupyter.widget-view+json": {
       "model_id": "8291a462aebe426199b065fca72f0d6f",
       "version_major": 2,
       "version_minor": 0
      },
      "text/plain": [
       "VBox(children=(Figure(animation_duration=500, axes=[Axis(scale=LinearScale()), Axis(orientation='vertical', sc…"
      ]
     },
     "metadata": {},
     "output_type": "display_data"
    }
   ],
   "source": [
    "bplt.clear() # BQplot code\n",
    "figure = bplt.figure(title='Regression', animation_duration=500) # BQplot code\n",
    "scat = bplt.scatter(xs, ys, enable_move=True, interactions={'click': 'add'} )\n",
    "scat.observe(add_point, names=['x'])\n",
    "y_hat = bplt.plot(xs, calc_y(xs))\n",
    "bplt.show()"
   ]
  },
  {
   "cell_type": "code",
   "execution_count": null,
   "metadata": {},
   "outputs": [],
   "source": []
  }
 ],
 "metadata": {
  "kernelspec": {
   "display_name": "Python 3",
   "language": "python",
   "name": "python3"
  },
  "language_info": {
   "codemirror_mode": {
    "name": "ipython",
    "version": 3
   },
   "file_extension": ".py",
   "mimetype": "text/x-python",
   "name": "python",
   "nbconvert_exporter": "python",
   "pygments_lexer": "ipython3",
   "version": "3.7.3"
  }
 },
 "nbformat": 4,
 "nbformat_minor": 2
}
